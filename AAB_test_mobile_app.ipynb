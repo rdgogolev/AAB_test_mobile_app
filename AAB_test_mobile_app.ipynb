{
 "cells": [
  {
   "cell_type": "markdown",
   "id": "577fdfae",
   "metadata": {},
   "source": [
    "# Описание проекта\n",
    "**Заказчик**: стартап, который продаёт продукты питания.   \n",
    "Нужно разобраться, как ведут себя пользователи мобильного приложения. В рамках проекта нужно исследовать воронку продаж и изучить результаты A/A/B-эксперимента.   \n",
    "   \n",
    "Мне предстоить изучить лог-файл с записями с действиями пользователей или событий:   \n",
    "* `EventName` — название события;\n",
    "* `DeviceIDHash` — уникальный идентификатор пользователя;\n",
    "* `EventTimestamp` — время события;\n",
    "* `ExpId` — номер эксперимента: 246 и 247 — контрольные группы, а 248 — экспериментальная."
   ]
  },
  {
   "cell_type": "code",
   "execution_count": 1,
   "id": "37608a6d",
   "metadata": {},
   "outputs": [],
   "source": [
    "import pandas as pd\n",
    "import numpy as np\n",
    "import matplotlib.pyplot as plt\n",
    "import datetime as dt\n",
    "from scipy import stats as st\n",
    "import seaborn as sns\n",
    "import math as mth\n",
    "import os"
   ]
  },
  {
   "cell_type": "markdown",
   "id": "bb5cc187",
   "metadata": {},
   "source": [
    "## Подготовка данных"
   ]
  },
  {
   "cell_type": "code",
   "execution_count": 2,
   "id": "9cfcd2c1",
   "metadata": {},
   "outputs": [],
   "source": [
    "pth1 = 'logs_exp.csv'\n",
    "\n",
    "if os.path.exists(pth1):\n",
    "    df = pd.read_csv(pth1, sep='\\t')\n",
    "else:\n",
    "    print('Something is wrong')"
   ]
  },
  {
   "cell_type": "code",
   "execution_count": 3,
   "id": "795658d7",
   "metadata": {},
   "outputs": [
    {
     "data": {
      "text/html": [
       "<div>\n",
       "<style scoped>\n",
       "    .dataframe tbody tr th:only-of-type {\n",
       "        vertical-align: middle;\n",
       "    }\n",
       "\n",
       "    .dataframe tbody tr th {\n",
       "        vertical-align: top;\n",
       "    }\n",
       "\n",
       "    .dataframe thead th {\n",
       "        text-align: right;\n",
       "    }\n",
       "</style>\n",
       "<table border=\"1\" class=\"dataframe\">\n",
       "  <thead>\n",
       "    <tr style=\"text-align: right;\">\n",
       "      <th></th>\n",
       "      <th>EventName</th>\n",
       "      <th>DeviceIDHash</th>\n",
       "      <th>EventTimestamp</th>\n",
       "      <th>ExpId</th>\n",
       "    </tr>\n",
       "  </thead>\n",
       "  <tbody>\n",
       "    <tr>\n",
       "      <th>0</th>\n",
       "      <td>MainScreenAppear</td>\n",
       "      <td>4575588528974610257</td>\n",
       "      <td>1564029816</td>\n",
       "      <td>246</td>\n",
       "    </tr>\n",
       "    <tr>\n",
       "      <th>1</th>\n",
       "      <td>MainScreenAppear</td>\n",
       "      <td>7416695313311560658</td>\n",
       "      <td>1564053102</td>\n",
       "      <td>246</td>\n",
       "    </tr>\n",
       "    <tr>\n",
       "      <th>2</th>\n",
       "      <td>PaymentScreenSuccessful</td>\n",
       "      <td>3518123091307005509</td>\n",
       "      <td>1564054127</td>\n",
       "      <td>248</td>\n",
       "    </tr>\n",
       "    <tr>\n",
       "      <th>3</th>\n",
       "      <td>CartScreenAppear</td>\n",
       "      <td>3518123091307005509</td>\n",
       "      <td>1564054127</td>\n",
       "      <td>248</td>\n",
       "    </tr>\n",
       "    <tr>\n",
       "      <th>4</th>\n",
       "      <td>PaymentScreenSuccessful</td>\n",
       "      <td>6217807653094995999</td>\n",
       "      <td>1564055322</td>\n",
       "      <td>248</td>\n",
       "    </tr>\n",
       "  </tbody>\n",
       "</table>\n",
       "</div>"
      ],
      "text/plain": [
       "                 EventName         DeviceIDHash  EventTimestamp  ExpId\n",
       "0         MainScreenAppear  4575588528974610257      1564029816    246\n",
       "1         MainScreenAppear  7416695313311560658      1564053102    246\n",
       "2  PaymentScreenSuccessful  3518123091307005509      1564054127    248\n",
       "3         CartScreenAppear  3518123091307005509      1564054127    248\n",
       "4  PaymentScreenSuccessful  6217807653094995999      1564055322    248"
      ]
     },
     "metadata": {},
     "output_type": "display_data"
    },
    {
     "name": "stdout",
     "output_type": "stream",
     "text": [
      "<class 'pandas.core.frame.DataFrame'>\n",
      "RangeIndex: 244126 entries, 0 to 244125\n",
      "Data columns (total 4 columns):\n",
      " #   Column          Non-Null Count   Dtype \n",
      "---  ------          --------------   ----- \n",
      " 0   EventName       244126 non-null  object\n",
      " 1   DeviceIDHash    244126 non-null  int64 \n",
      " 2   EventTimestamp  244126 non-null  int64 \n",
      " 3   ExpId           244126 non-null  int64 \n",
      "dtypes: int64(3), object(1)\n",
      "memory usage: 7.5+ MB\n"
     ]
    }
   ],
   "source": [
    "display(df.head())\n",
    "df.info()"
   ]
  },
  {
   "cell_type": "code",
   "execution_count": 4,
   "id": "20951a2c",
   "metadata": {},
   "outputs": [],
   "source": [
    "# переименуем столбцы\n",
    "df.columns = ['event_name', 'user_id', 'event_time', 'group']"
   ]
  },
  {
   "cell_type": "code",
   "execution_count": 5,
   "id": "9b466360",
   "metadata": {},
   "outputs": [],
   "source": [
    "# время событий указано в формате unix. Переведём на привычный формат\n",
    "df['event_time'] = pd.to_datetime(df['event_time'], unit='s')\n",
    "# и добавим столбец даты\n",
    "df['event_dt'] = pd.to_datetime(df['event_time']).dt.date"
   ]
  },
  {
   "cell_type": "code",
   "execution_count": 6,
   "id": "90be6ddf",
   "metadata": {},
   "outputs": [
    {
     "name": "stdout",
     "output_type": "stream",
     "text": [
      "Количество дубликатов в датасете: 413\n",
      "Удаляем дубликаты, теперь их: 0\n"
     ]
    }
   ],
   "source": [
    "# проверим явные и неявные дубликаты\n",
    "print(f'Количество дубликатов в датасете: {df.duplicated().sum()}')\n",
    "if df.duplicated().sum() > 0 :\n",
    "    df.drop_duplicates(inplace=True)\n",
    "    df.reset_index(inplace=True, drop=True)\n",
    "    print(f'Удаляем дубликаты, теперь их: {df.duplicated().sum()}')"
   ]
  },
  {
   "cell_type": "code",
   "execution_count": 7,
   "id": "5543a3e4",
   "metadata": {},
   "outputs": [
    {
     "name": "stdout",
     "output_type": "stream",
     "text": [
      "['MainScreenAppear' 'PaymentScreenSuccessful' 'CartScreenAppear'\n",
      " 'OffersScreenAppear' 'Tutorial']\n",
      "[246 248 247]\n"
     ]
    }
   ],
   "source": [
    "for columns in ['event_name', 'group'] :\n",
    "    print(df[columns].unique())"
   ]
  },
  {
   "cell_type": "code",
   "execution_count": 8,
   "id": "8eb4e2ae",
   "metadata": {},
   "outputs": [
    {
     "data": {
      "text/html": [
       "<div>\n",
       "<style scoped>\n",
       "    .dataframe tbody tr th:only-of-type {\n",
       "        vertical-align: middle;\n",
       "    }\n",
       "\n",
       "    .dataframe tbody tr th {\n",
       "        vertical-align: top;\n",
       "    }\n",
       "\n",
       "    .dataframe thead th {\n",
       "        text-align: right;\n",
       "    }\n",
       "</style>\n",
       "<table border=\"1\" class=\"dataframe\">\n",
       "  <thead>\n",
       "    <tr style=\"text-align: right;\">\n",
       "      <th></th>\n",
       "      <th>event_name</th>\n",
       "      <th>user_id</th>\n",
       "      <th>event_time</th>\n",
       "      <th>group</th>\n",
       "      <th>event_dt</th>\n",
       "    </tr>\n",
       "  </thead>\n",
       "  <tbody>\n",
       "    <tr>\n",
       "      <th>0</th>\n",
       "      <td>MainScreenAppear</td>\n",
       "      <td>4575588528974610257</td>\n",
       "      <td>2019-07-25 04:43:36</td>\n",
       "      <td>246</td>\n",
       "      <td>2019-07-25</td>\n",
       "    </tr>\n",
       "    <tr>\n",
       "      <th>1</th>\n",
       "      <td>MainScreenAppear</td>\n",
       "      <td>7416695313311560658</td>\n",
       "      <td>2019-07-25 11:11:42</td>\n",
       "      <td>246</td>\n",
       "      <td>2019-07-25</td>\n",
       "    </tr>\n",
       "    <tr>\n",
       "      <th>2</th>\n",
       "      <td>PaymentScreenSuccessful</td>\n",
       "      <td>3518123091307005509</td>\n",
       "      <td>2019-07-25 11:28:47</td>\n",
       "      <td>248</td>\n",
       "      <td>2019-07-25</td>\n",
       "    </tr>\n",
       "    <tr>\n",
       "      <th>3</th>\n",
       "      <td>CartScreenAppear</td>\n",
       "      <td>3518123091307005509</td>\n",
       "      <td>2019-07-25 11:28:47</td>\n",
       "      <td>248</td>\n",
       "      <td>2019-07-25</td>\n",
       "    </tr>\n",
       "    <tr>\n",
       "      <th>4</th>\n",
       "      <td>PaymentScreenSuccessful</td>\n",
       "      <td>6217807653094995999</td>\n",
       "      <td>2019-07-25 11:48:42</td>\n",
       "      <td>248</td>\n",
       "      <td>2019-07-25</td>\n",
       "    </tr>\n",
       "  </tbody>\n",
       "</table>\n",
       "</div>"
      ],
      "text/plain": [
       "                event_name              user_id          event_time  group   \n",
       "0         MainScreenAppear  4575588528974610257 2019-07-25 04:43:36    246  \\\n",
       "1         MainScreenAppear  7416695313311560658 2019-07-25 11:11:42    246   \n",
       "2  PaymentScreenSuccessful  3518123091307005509 2019-07-25 11:28:47    248   \n",
       "3         CartScreenAppear  3518123091307005509 2019-07-25 11:28:47    248   \n",
       "4  PaymentScreenSuccessful  6217807653094995999 2019-07-25 11:48:42    248   \n",
       "\n",
       "     event_dt  \n",
       "0  2019-07-25  \n",
       "1  2019-07-25  \n",
       "2  2019-07-25  \n",
       "3  2019-07-25  \n",
       "4  2019-07-25  "
      ]
     },
     "metadata": {},
     "output_type": "display_data"
    },
    {
     "name": "stdout",
     "output_type": "stream",
     "text": [
      "<class 'pandas.core.frame.DataFrame'>\n",
      "RangeIndex: 243713 entries, 0 to 243712\n",
      "Data columns (total 5 columns):\n",
      " #   Column      Non-Null Count   Dtype         \n",
      "---  ------      --------------   -----         \n",
      " 0   event_name  243713 non-null  object        \n",
      " 1   user_id     243713 non-null  int64         \n",
      " 2   event_time  243713 non-null  datetime64[ns]\n",
      " 3   group       243713 non-null  int64         \n",
      " 4   event_dt    243713 non-null  object        \n",
      "dtypes: datetime64[ns](1), int64(2), object(2)\n",
      "memory usage: 9.3+ MB\n"
     ]
    }
   ],
   "source": [
    "display(df.head())\n",
    "df.info()"
   ]
  },
  {
   "cell_type": "markdown",
   "id": "b5f823e8",
   "metadata": {},
   "source": [
    "Пропусков в данных нет, привели столбцы к нужному типу, добавили столбец с датой, удалили дубликаты. Можем идти дальше."
   ]
  },
  {
   "cell_type": "markdown",
   "id": "aca2b9d5",
   "metadata": {},
   "source": [
    "## Изучение и проверка данных"
   ]
  },
  {
   "cell_type": "code",
   "execution_count": 9,
   "id": "e61a9185",
   "metadata": {},
   "outputs": [
    {
     "name": "stdout",
     "output_type": "stream",
     "text": [
      "Всего событий в логе: 243713\n",
      "Всего пользователей: 7551\n"
     ]
    }
   ],
   "source": [
    "print(f'Всего событий в логе: {df.shape[0]}')\n",
    "print(f'Всего пользователей: {len(df[\"user_id\"].unique())}')"
   ]
  },
  {
   "cell_type": "code",
   "execution_count": 10,
   "id": "9230b325",
   "metadata": {},
   "outputs": [
    {
     "name": "stdout",
     "output_type": "stream",
     "text": [
      "В среднем событий приходится на пользователя: 32.276\n",
      "Медианное количество событий на каждого пользователя: 20.0\n"
     ]
    }
   ],
   "source": [
    "print(f\"В среднем событий приходится на пользователя: {round(df[['user_id', 'event_name']].groupby('user_id', as_index=False).count()['event_name'].mean(), 3)}\")\n",
    "print(f\"Медианное количество событий на каждого пользователя: {df[['user_id', 'event_name']].groupby('user_id', as_index=False).count()['event_name'].median()}\")"
   ]
  },
  {
   "cell_type": "markdown",
   "id": "2da833cb",
   "metadata": {},
   "source": [
    "Также посмотрим на распределение количества событий по пользователям, построив гистограмму."
   ]
  },
  {
   "cell_type": "code",
   "execution_count": 11,
   "id": "13b20640",
   "metadata": {},
   "outputs": [],
   "source": [
    "sns.set(rc={'figure.figsize':(12,8)})"
   ]
  },
  {
   "cell_type": "code",
   "execution_count": 12,
   "id": "a5686a93",
   "metadata": {},
   "outputs": [
    {
     "data": {
      "image/png": "[encoded data removed]",
      "text/plain": [
       "<Figure size 1200x800 with 1 Axes>"
      ]
     },
     "metadata": {},
     "output_type": "display_data"
    }
   ],
   "source": [
    "df[['user_id', 'event_name']].groupby('user_id', as_index=False).count()['event_name'].hist()\n",
    "plt.title('Распределение количества событий по пользователям');"
   ]
  },
  {
   "cell_type": "code",
   "execution_count": 13,
   "id": "de98f372",
   "metadata": {},
   "outputs": [
    {
     "data": {
      "image/png": "[encoded data removed]",
      "text/plain": [
       "<Figure size 1200x800 with 1 Axes>"
      ]
     },
     "metadata": {},
     "output_type": "display_data"
    }
   ],
   "source": [
    "df[['user_id', 'event_name']].groupby('user_id', as_index=False).count().query(\"event_name < 300\")['event_name'].hist()\n",
    "plt.title('Распределение количества событий по пользователям');"
   ]
  },
  {
   "cell_type": "code",
   "execution_count": 14,
   "id": "494d4b04",
   "metadata": {},
   "outputs": [
    {
     "name": "stdout",
     "output_type": "stream",
     "text": [
      "Временной интервал лога в днях: 14 days 00:00:00 \n",
      "Количество дней в логе: 14\n",
      "Данные собраны за период 2019-07-25 - 2019-08-07\n"
     ]
    }
   ],
   "source": [
    "# получим информацию о логе по дням \n",
    "print(f'Временной интервал лога в днях: {(pd.to_datetime(df[\"event_dt\"]).max() - pd.to_datetime(df[\"event_dt\"]).min()) + dt.timedelta(days=1)} ')\n",
    "print(f'Количество дней в логе: {df[\"event_dt\"].nunique()}')\n",
    "print(f'Данные собраны за период {pd.to_datetime(df[\"event_dt\"]).min().date()} - {pd.to_datetime(df[\"event_dt\"]).max().date()}')"
   ]
  },
  {
   "cell_type": "code",
   "execution_count": 15,
   "id": "0942595f",
   "metadata": {},
   "outputs": [
    {
     "name": "stdout",
     "output_type": "stream",
     "text": [
      "Точный временной интервал лога: 13 days 16:31:41 \n",
      "Данные собраны за временной период 2019-07-25 04:43:36 - 2019-08-07 21:15:17\n"
     ]
    }
   ],
   "source": [
    "# получим информацию о логе с учётом времени\n",
    "print(f'Точный временной интервал лога: {df[\"event_time\"].max() - df[\"event_time\"].min()} ')\n",
    "print(f'Данные собраны за временной период {df[\"event_time\"].min()} - {df[\"event_time\"].max()}')"
   ]
  },
  {
   "cell_type": "markdown",
   "id": "8387d8c8",
   "metadata": {},
   "source": [
    "Нужно убедиться, что у нас полноценные данные за каждый день периода."
   ]
  },
  {
   "cell_type": "code",
   "execution_count": 16,
   "id": "2ca9abc1",
   "metadata": {},
   "outputs": [
    {
     "data": {
      "image/png": "[encoded data removed]",
      "text/plain": [
       "<Figure size 1400x500 with 1 Axes>"
      ]
     },
     "metadata": {},
     "output_type": "display_data"
    }
   ],
   "source": [
    "df['event_time'].hist(bins=14*24, figsize=(14, 5))\n",
    "plt.xticks(rotation=30)\n",
    "plt.title('Распределение количества событий по датам');"
   ]
  },
  {
   "cell_type": "markdown",
   "id": "5ae45152",
   "metadata": {},
   "source": [
    "К сожалению, полноценные данные только с 01.08.2019. Для дальнейшего анализа оставим только эти данные."
   ]
  },
  {
   "cell_type": "code",
   "execution_count": 17,
   "id": "15cdf4e0",
   "metadata": {},
   "outputs": [
    {
     "name": "stdout",
     "output_type": "stream",
     "text": [
      "Из датасета будет удалено 2826 событий\n",
      "Из датасета будет удалено 1.2% событий\n"
     ]
    }
   ],
   "source": [
    "# перед удалением посчитаем, сколько данных мы потеряем\n",
    "print(f\"Из датасета будет удалено {df.shape[0] - df[pd.to_datetime(df['event_dt']) >= '2019-08-01'].shape[0]} событий\")\n",
    "print(f\"Из датасета будет удалено {round(abs(1 - df.shape[0] / df[pd.to_datetime(df['event_dt']) >= '2019-08-01'].shape[0]) * 100, 1)}% событий\")"
   ]
  },
  {
   "cell_type": "code",
   "execution_count": 18,
   "id": "62397ff5",
   "metadata": {},
   "outputs": [
    {
     "name": "stdout",
     "output_type": "stream",
     "text": [
      "Из датасета будут удалены 17 пользователей\n",
      "Из датасета будут удалены 0.2% пользователей\n"
     ]
    }
   ],
   "source": [
    "print(f\"Из датасета будут удалены {df['user_id'].drop_duplicates().shape[0] - df[pd.to_datetime(df['event_dt']) >= '2019-08-01']['user_id'].drop_duplicates().shape[0]} пользователей\")\n",
    "print(f\"Из датасета будут удалены {round(abs(1 - df['user_id'].drop_duplicates().shape[0] / df[pd.to_datetime(df['event_dt']) >= '2019-08-01']['user_id'].drop_duplicates().shape[0]) * 100, 1)}% пользователей\")"
   ]
  },
  {
   "cell_type": "code",
   "execution_count": 19,
   "id": "9352b992",
   "metadata": {},
   "outputs": [],
   "source": [
    "df = df[pd.to_datetime(df['event_dt']) >= '2019-08-01']"
   ]
  },
  {
   "cell_type": "code",
   "execution_count": 20,
   "id": "fe364283",
   "metadata": {},
   "outputs": [
    {
     "name": "stdout",
     "output_type": "stream",
     "text": [
      "Точный временной интервал лога: 6 days 21:07:49 \n",
      "Данные собраны за временной период 2019-08-01 00:07:28 - 2019-08-07 21:15:17\n"
     ]
    }
   ],
   "source": [
    "# проверим, что данные обновились\n",
    "print(f'Точный временной интервал лога: {df[\"event_time\"].max() - df[\"event_time\"].min()} ')\n",
    "print(f'Данные собраны за временной период {df[\"event_time\"].min()} - {df[\"event_time\"].max()}')"
   ]
  },
  {
   "cell_type": "code",
   "execution_count": 21,
   "id": "028e02c0",
   "metadata": {},
   "outputs": [
    {
     "name": "stdout",
     "output_type": "stream",
     "text": [
      "Всего событий в логе: 240887\n",
      "Всего пользователей: 7534\n",
      "\n",
      "['Tutorial' 'MainScreenAppear' 'OffersScreenAppear' 'CartScreenAppear'\n",
      " 'PaymentScreenSuccessful']\n",
      "[246 247 248]\n"
     ]
    }
   ],
   "source": [
    "# Проверим, сколько у нас теперь событий и уникальных пользователей; не потеряли ли мы события или группы\n",
    "print(f'Всего событий в логе: {df.shape[0]}')\n",
    "print(f'Всего пользователей: {len(df[\"user_id\"].unique())}')\n",
    "print()\n",
    "for columns in ['event_name', 'group'] :\n",
    "    print(df[columns].unique())"
   ]
  },
  {
   "cell_type": "markdown",
   "id": "2a74a508",
   "metadata": {},
   "source": [
    "## Изучим воронку событий"
   ]
  },
  {
   "cell_type": "markdown",
   "id": "d307b974",
   "metadata": {},
   "source": [
    "Мы уже увидели следующие события в логе:   \n",
    "* `Tutorial` - страница обучения;\n",
    "* `MainScreenAppear` - переход на главный экран;\n",
    "* `OffersScreenAppear` - экран предложения о покупке;\n",
    "* `CartScreenAppear` - страница оплаты;\n",
    "* `PaymentScreenSuccessful` - страница \"успешной оплаты\"."
   ]
  },
  {
   "cell_type": "markdown",
   "id": "34a4ac68",
   "metadata": {},
   "source": [
    "Составим и проверим воронку событий."
   ]
  },
  {
   "cell_type": "code",
   "execution_count": 22,
   "id": "899d5304",
   "metadata": {},
   "outputs": [
    {
     "data": {
      "text/plain": [
       "event_name\n",
       "MainScreenAppear           117328\n",
       "OffersScreenAppear          46333\n",
       "CartScreenAppear            42303\n",
       "PaymentScreenSuccessful     33918\n",
       "Tutorial                     1005\n",
       "Name: count, dtype: int64"
      ]
     },
     "execution_count": 22,
     "metadata": {},
     "output_type": "execute_result"
    }
   ],
   "source": [
    "df[\"event_name\"].value_counts()"
   ]
  },
  {
   "cell_type": "code",
   "execution_count": 23,
   "id": "282579a4",
   "metadata": {},
   "outputs": [
    {
     "data": {
      "text/plain": [
       "2826                   Tutorial\n",
       "2827           MainScreenAppear\n",
       "2829         OffersScreenAppear\n",
       "2844           CartScreenAppear\n",
       "2845    PaymentScreenSuccessful\n",
       "Name: event_name, dtype: object"
      ]
     },
     "execution_count": 23,
     "metadata": {},
     "output_type": "execute_result"
    }
   ],
   "source": [
    "# Определим воронку событий\n",
    "df.sort_values(by='event_time')['event_name'].drop_duplicates()"
   ]
  },
  {
   "cell_type": "code",
   "execution_count": null,
   "id": "23fc6f59",
   "metadata": {},
   "outputs": [],
   "source": [
    "sns.histplot(data=df[\"event_name\"], bins=df[\"event_name\"].nunique())\n",
    "plt.title('Количество событий на каждом этапе');"
   ]
  },
  {
   "cell_type": "markdown",
   "id": "d7c1c84b",
   "metadata": {},
   "source": [
    "Первым встречается событие \"обучение\", однако оно происходило реже всего. Скорее всего, у пользователей есть опция пропустить это обучение, а данных о таком событии нет.   \n",
    "Если убрать событие \"обучения\", получается такая воронка:\n",
    "* `MainScreenAppear` - переход на главный экран;\n",
    "* `OffersScreenAppear` - экран предложения о покупке;\n",
    "* `CartScreenAppear` - страница оплаты;\n",
    "* `PaymentScreenSuccessful` - страница \"успешной оплаты\".   "
   ]
  },
  {
   "cell_type": "code",
   "execution_count": 25,
   "id": "f3ed2329",
   "metadata": {},
   "outputs": [
    {
     "data": {
      "text/html": [
       "<div>\n",
       "<style scoped>\n",
       "    .dataframe tbody tr th:only-of-type {\n",
       "        vertical-align: middle;\n",
       "    }\n",
       "\n",
       "    .dataframe tbody tr th {\n",
       "        vertical-align: top;\n",
       "    }\n",
       "\n",
       "    .dataframe thead th {\n",
       "        text-align: right;\n",
       "    }\n",
       "</style>\n",
       "<table border=\"1\" class=\"dataframe\">\n",
       "  <thead>\n",
       "    <tr style=\"text-align: right;\">\n",
       "      <th></th>\n",
       "      <th>user_id</th>\n",
       "      <th>event_conv</th>\n",
       "    </tr>\n",
       "    <tr>\n",
       "      <th>event_name</th>\n",
       "      <th></th>\n",
       "      <th></th>\n",
       "    </tr>\n",
       "  </thead>\n",
       "  <tbody>\n",
       "    <tr>\n",
       "      <th>MainScreenAppear</th>\n",
       "      <td>7419</td>\n",
       "      <td>0.985</td>\n",
       "    </tr>\n",
       "    <tr>\n",
       "      <th>OffersScreenAppear</th>\n",
       "      <td>4593</td>\n",
       "      <td>0.610</td>\n",
       "    </tr>\n",
       "    <tr>\n",
       "      <th>CartScreenAppear</th>\n",
       "      <td>3734</td>\n",
       "      <td>0.496</td>\n",
       "    </tr>\n",
       "    <tr>\n",
       "      <th>PaymentScreenSuccessful</th>\n",
       "      <td>3539</td>\n",
       "      <td>0.470</td>\n",
       "    </tr>\n",
       "    <tr>\n",
       "      <th>Tutorial</th>\n",
       "      <td>840</td>\n",
       "      <td>0.111</td>\n",
       "    </tr>\n",
       "  </tbody>\n",
       "</table>\n",
       "</div>"
      ],
      "text/plain": [
       "                         user_id  event_conv\n",
       "event_name                                  \n",
       "MainScreenAppear            7419       0.985\n",
       "OffersScreenAppear          4593       0.610\n",
       "CartScreenAppear            3734       0.496\n",
       "PaymentScreenSuccessful     3539       0.470\n",
       "Tutorial                     840       0.111"
      ]
     },
     "execution_count": 25,
     "metadata": {},
     "output_type": "execute_result"
    }
   ],
   "source": [
    "# посчитаем количество уникальных пользователей для каждого события и долю пользователей для каждого события\n",
    "event_grouped = df[['event_name','user_id']].groupby('event_name').nunique('user_id').sort_values(by='user_id', ascending=False)\n",
    "event_grouped['event_conv'] = round(event_grouped['user_id'] / df['user_id'].nunique(), 3)\n",
    "event_grouped"
   ]
  },
  {
   "cell_type": "markdown",
   "id": "95a27007",
   "metadata": {},
   "source": [
    "Исключу событие \"обучение\". Добавлю ещё один столбец в сгруппированную таблицу - конверсия каждого этапа (доля пользователей, перешедших на события, с прошлого события) "
   ]
  },
  {
   "cell_type": "code",
   "execution_count": 26,
   "id": "2a6507ca",
   "metadata": {},
   "outputs": [
    {
     "name": "stderr",
     "output_type": "stream",
     "text": [
      "C:\\Users\\Рома\\AppData\\Local\\Temp\\ipykernel_3744\\1820418455.py:2: SettingWithCopyWarning: \n",
      "A value is trying to be set on a copy of a slice from a DataFrame.\n",
      "Try using .loc[row_indexer,col_indexer] = value instead\n",
      "\n",
      "See the caveats in the documentation: https://pandas.pydata.org/pandas-docs/stable/user_guide/indexing.html#returning-a-view-versus-a-copy\n",
      "  event_grouped['event_conv_prev'] = round(event_grouped['user_id'] / event_grouped['user_id'].shift(), 3)\n"
     ]
    },
    {
     "data": {
      "text/html": [
       "<div>\n",
       "<style scoped>\n",
       "    .dataframe tbody tr th:only-of-type {\n",
       "        vertical-align: middle;\n",
       "    }\n",
       "\n",
       "    .dataframe tbody tr th {\n",
       "        vertical-align: top;\n",
       "    }\n",
       "\n",
       "    .dataframe thead th {\n",
       "        text-align: right;\n",
       "    }\n",
       "</style>\n",
       "<table border=\"1\" class=\"dataframe\">\n",
       "  <thead>\n",
       "    <tr style=\"text-align: right;\">\n",
       "      <th></th>\n",
       "      <th>user_id</th>\n",
       "      <th>event_conv</th>\n",
       "      <th>event_conv_prev</th>\n",
       "    </tr>\n",
       "    <tr>\n",
       "      <th>event_name</th>\n",
       "      <th></th>\n",
       "      <th></th>\n",
       "      <th></th>\n",
       "    </tr>\n",
       "  </thead>\n",
       "  <tbody>\n",
       "    <tr>\n",
       "      <th>MainScreenAppear</th>\n",
       "      <td>7419</td>\n",
       "      <td>0.985</td>\n",
       "      <td>NaN</td>\n",
       "    </tr>\n",
       "    <tr>\n",
       "      <th>OffersScreenAppear</th>\n",
       "      <td>4593</td>\n",
       "      <td>0.610</td>\n",
       "      <td>0.619</td>\n",
       "    </tr>\n",
       "    <tr>\n",
       "      <th>CartScreenAppear</th>\n",
       "      <td>3734</td>\n",
       "      <td>0.496</td>\n",
       "      <td>0.813</td>\n",
       "    </tr>\n",
       "    <tr>\n",
       "      <th>PaymentScreenSuccessful</th>\n",
       "      <td>3539</td>\n",
       "      <td>0.470</td>\n",
       "      <td>0.948</td>\n",
       "    </tr>\n",
       "  </tbody>\n",
       "</table>\n",
       "</div>"
      ],
      "text/plain": [
       "                         user_id  event_conv  event_conv_prev\n",
       "event_name                                                   \n",
       "MainScreenAppear            7419       0.985              NaN\n",
       "OffersScreenAppear          4593       0.610            0.619\n",
       "CartScreenAppear            3734       0.496            0.813\n",
       "PaymentScreenSuccessful     3539       0.470            0.948"
      ]
     },
     "execution_count": 26,
     "metadata": {},
     "output_type": "execute_result"
    }
   ],
   "source": [
    "event_grouped = event_grouped.query('event_name != \"Tutorial\"')\n",
    "event_grouped['event_conv_prev'] = round(event_grouped['user_id'] / event_grouped['user_id'].shift(), 3)\n",
    "event_grouped"
   ]
  },
  {
   "cell_type": "markdown",
   "id": "f24dada3",
   "metadata": {},
   "source": [
    "**Вывод:** больше всего пользователей теряется на шаге \"главный экран\" -> \"экран предложения о покупке\" - 40% пользователей теряется.   \n",
    "Конверсия в покупку с запуска приложения равна 0,47. "
   ]
  },
  {
   "cell_type": "markdown",
   "id": "c3432109",
   "metadata": {},
   "source": [
    "## Изучим результаты А/А/В эксперимента"
   ]
  },
  {
   "cell_type": "markdown",
   "id": "13b1a31b",
   "metadata": {},
   "source": [
    "Проверим количество пользователей."
   ]
  },
  {
   "cell_type": "code",
   "execution_count": 27,
   "id": "26c6ef77",
   "metadata": {},
   "outputs": [],
   "source": [
    "# в целях дальнейшего анализа исключим событие \"обучение\", так как оно вне воронки\n",
    "df = df[df['event_name'] != 'Tutorial']"
   ]
  },
  {
   "cell_type": "code",
   "execution_count": 28,
   "id": "a1e71e47",
   "metadata": {},
   "outputs": [
    {
     "data": {
      "text/html": [
       "<div>\n",
       "<style scoped>\n",
       "    .dataframe tbody tr th:only-of-type {\n",
       "        vertical-align: middle;\n",
       "    }\n",
       "\n",
       "    .dataframe tbody tr th {\n",
       "        vertical-align: top;\n",
       "    }\n",
       "\n",
       "    .dataframe thead th {\n",
       "        text-align: right;\n",
       "    }\n",
       "</style>\n",
       "<table border=\"1\" class=\"dataframe\">\n",
       "  <thead>\n",
       "    <tr style=\"text-align: right;\">\n",
       "      <th></th>\n",
       "      <th>user_id</th>\n",
       "    </tr>\n",
       "    <tr>\n",
       "      <th>group</th>\n",
       "      <th></th>\n",
       "    </tr>\n",
       "  </thead>\n",
       "  <tbody>\n",
       "    <tr>\n",
       "      <th>246</th>\n",
       "      <td>2483</td>\n",
       "    </tr>\n",
       "    <tr>\n",
       "      <th>247</th>\n",
       "      <td>2512</td>\n",
       "    </tr>\n",
       "    <tr>\n",
       "      <th>248</th>\n",
       "      <td>2535</td>\n",
       "    </tr>\n",
       "  </tbody>\n",
       "</table>\n",
       "</div>"
      ],
      "text/plain": [
       "       user_id\n",
       "group         \n",
       "246       2483\n",
       "247       2512\n",
       "248       2535"
      ]
     },
     "execution_count": 28,
     "metadata": {},
     "output_type": "execute_result"
    }
   ],
   "source": [
    "# кол-во пользователей в каждой экспериментальной группе\n",
    "df[['group', 'user_id']].groupby('group').nunique('user_id')"
   ]
  },
  {
   "cell_type": "markdown",
   "id": "ccbbdb99",
   "metadata": {},
   "source": [
    "Количество пользователей в каждой группе примерно одинаковое."
   ]
  },
  {
   "cell_type": "markdown",
   "id": "32b334ce",
   "metadata": {},
   "source": [
    "Проверим, нет ли пользователей, которые попали две или три группы."
   ]
  },
  {
   "cell_type": "code",
   "execution_count": 29,
   "id": "68a31cb5",
   "metadata": {},
   "outputs": [
    {
     "name": "stdout",
     "output_type": "stream",
     "text": [
      "количество пользователей, которые попали в группы 246 и 247: 0\n",
      "количество пользователей, которые попали в группы 247 и 248: 0\n",
      "количество пользователей, которые попали в группы 246 и 248: 0\n"
     ]
    }
   ],
   "source": [
    "print('количество пользователей, которые попали в группы 246 и 247: ', end='')\n",
    "print(df.query('group == 246')['user_id'].drop_duplicates()\\\n",
    "          .isin(df.query('group == 247')['user_id'].drop_duplicates()).sum())\n",
    "print('количество пользователей, которые попали в группы 247 и 248: ', end='')\n",
    "print(df.query('group == 247')['user_id'].drop_duplicates()\\\n",
    "          .isin(df.query('group == 248')['user_id'].drop_duplicates()).sum())\n",
    "print('количество пользователей, которые попали в группы 246 и 248: ', end='')\n",
    "print(df.query('group == 246')['user_id'].drop_duplicates()\\\n",
    "          .isin(df.query('group == 248')['user_id'].drop_duplicates()).sum())"
   ]
  },
  {
   "cell_type": "markdown",
   "id": "118bc375",
   "metadata": {},
   "source": [
    "246 и 247 — контрольные группы, а 248 — экспериментальная. Между группами 246 и 247 не должно быть различий. Чтобы убедиться в этом, проверим, находят ли статистические критерии разницу между выборками 246 и 247.   \n",
    "   \n",
    "Проверим статистическую значимость различия конверсии пользователя в покупателя в контрольных группах. Сформулируем нулевую гипотезу:   \n",
    "*\"Конверсия пользователей в покупателей в контрольных группа одинаковая\"*."
   ]
  },
  {
   "cell_type": "code",
   "execution_count": 30,
   "id": "a8d3cfb2",
   "metadata": {
    "scrolled": false
   },
   "outputs": [],
   "source": [
    "# сохраним датасет с контрольными группами\n",
    "df_cnt = df[df['group'] != 248]"
   ]
  },
  {
   "cell_type": "code",
   "execution_count": 31,
   "id": "2f6b9817",
   "metadata": {},
   "outputs": [
    {
     "data": {
      "text/html": [
       "<div>\n",
       "<style scoped>\n",
       "    .dataframe tbody tr th:only-of-type {\n",
       "        vertical-align: middle;\n",
       "    }\n",
       "\n",
       "    .dataframe tbody tr th {\n",
       "        vertical-align: top;\n",
       "    }\n",
       "\n",
       "    .dataframe thead th {\n",
       "        text-align: right;\n",
       "    }\n",
       "</style>\n",
       "<table border=\"1\" class=\"dataframe\">\n",
       "  <thead>\n",
       "    <tr style=\"text-align: right;\">\n",
       "      <th></th>\n",
       "      <th>user_id</th>\n",
       "    </tr>\n",
       "    <tr>\n",
       "      <th>group</th>\n",
       "      <th></th>\n",
       "    </tr>\n",
       "  </thead>\n",
       "  <tbody>\n",
       "    <tr>\n",
       "      <th>246</th>\n",
       "      <td>2483</td>\n",
       "    </tr>\n",
       "    <tr>\n",
       "      <th>247</th>\n",
       "      <td>2512</td>\n",
       "    </tr>\n",
       "  </tbody>\n",
       "</table>\n",
       "</div>"
      ],
      "text/plain": [
       "       user_id\n",
       "group         \n",
       "246       2483\n",
       "247       2512"
      ]
     },
     "execution_count": 31,
     "metadata": {},
     "output_type": "execute_result"
    }
   ],
   "source": [
    "users_cnt = df_cnt[['group', 'user_id']].groupby('group').nunique('user_id')\n",
    "users_cnt"
   ]
  },
  {
   "cell_type": "code",
   "execution_count": 32,
   "id": "ce7097b8",
   "metadata": {},
   "outputs": [
    {
     "data": {
      "text/html": [
       "<div>\n",
       "<style scoped>\n",
       "    .dataframe tbody tr th:only-of-type {\n",
       "        vertical-align: middle;\n",
       "    }\n",
       "\n",
       "    .dataframe tbody tr th {\n",
       "        vertical-align: top;\n",
       "    }\n",
       "\n",
       "    .dataframe thead th {\n",
       "        text-align: right;\n",
       "    }\n",
       "</style>\n",
       "<table border=\"1\" class=\"dataframe\">\n",
       "  <thead>\n",
       "    <tr style=\"text-align: right;\">\n",
       "      <th></th>\n",
       "      <th>user_id</th>\n",
       "    </tr>\n",
       "    <tr>\n",
       "      <th>group</th>\n",
       "      <th></th>\n",
       "    </tr>\n",
       "  </thead>\n",
       "  <tbody>\n",
       "    <tr>\n",
       "      <th>246</th>\n",
       "      <td>1200</td>\n",
       "    </tr>\n",
       "    <tr>\n",
       "      <th>247</th>\n",
       "      <td>1158</td>\n",
       "    </tr>\n",
       "  </tbody>\n",
       "</table>\n",
       "</div>"
      ],
      "text/plain": [
       "       user_id\n",
       "group         \n",
       "246       1200\n",
       "247       1158"
      ]
     },
     "execution_count": 32,
     "metadata": {},
     "output_type": "execute_result"
    }
   ],
   "source": [
    "buyers_cnt = df_cnt.query(\"event_name == 'PaymentScreenSuccessful'\")[['user_id', 'group']].drop_duplicates()\\\n",
    "                                                            .groupby('group').count()\n",
    "buyers_cnt"
   ]
  },
  {
   "cell_type": "code",
   "execution_count": 33,
   "id": "55c76974",
   "metadata": {},
   "outputs": [
    {
     "data": {
      "text/plain": [
       "array([0.02229909])"
      ]
     },
     "execution_count": 33,
     "metadata": {},
     "output_type": "execute_result"
    }
   ],
   "source": [
    "alpha_cnt = .05 # критический уровень статистической значимости\n",
    "\n",
    "users_cnt = users_cnt.to_numpy()\n",
    "buyers_cnt = buyers_cnt.to_numpy()\n",
    "# пропорция успехов в группе 246:\n",
    "p1_cnt = buyers_cnt[0]/users_cnt[0]\n",
    "\n",
    "# пропорция успехов в группе 247:\n",
    "p2_cnt = buyers_cnt[1]/users_cnt[1]\n",
    "\n",
    "# пропорция успехов общая:\n",
    "p_combined_cnt = (buyers_cnt[0] + buyers_cnt[1]) / (users_cnt[0] + users_cnt[1])\n",
    "\n",
    "# разница пропорций\n",
    "difference_cnt = p1_cnt - p2_cnt \n",
    "difference_cnt"
   ]
  },
  {
   "cell_type": "code",
   "execution_count": 34,
   "id": "7819684e",
   "metadata": {},
   "outputs": [
    {
     "name": "stdout",
     "output_type": "stream",
     "text": [
      "p-значение:  [0.11446628]\n",
      "Не получилось отвергнуть нулевую гипотезу, нет оснований считать конверсии разными\n"
     ]
    }
   ],
   "source": [
    "# считаем статистику в ст.отклонениях стандартного нормального распределения\n",
    "z_value_cnt = difference_cnt / mth.sqrt(p_combined_cnt * (1 - p_combined_cnt) * (1/users_cnt[0] + 1/users_cnt[1]))\n",
    "\n",
    "# задаем стандартное нормальное распределение (среднее 0, ст.отклонение 1)\n",
    "distr = st.norm(0, 1) \n",
    "\n",
    "p_value_cnt = (1 - distr.cdf(abs(z_value_cnt))) * 2\n",
    "\n",
    "print('p-значение: ', p_value_cnt)\n",
    "\n",
    "if p_value_cnt < alpha_cnt:\n",
    "    print('Отвергаем нулевую гипотезу: между конверсиями есть значимая разница')\n",
    "else:\n",
    "    print(\n",
    "        'Не получилось отвергнуть нулевую гипотезу, нет оснований считать конверсии разными'\n",
    "    )"
   ]
  },
  {
   "cell_type": "markdown",
   "id": "7f1321b9",
   "metadata": {},
   "source": [
    "Продолжим анализ результатов эксперимента.   \n",
    "Сделаем следующие шаги:  \n",
    "1) Подготовим таблицу в разрезе трёх групп с кол-вом пользователей на каждом событии, доле пользователей события от общего кол-ва пользователей;\n",
    "2) Проверим статистическую значимость различий доли пользователей, совершивших самое популярное событие `MainScreenAppear` в контрольных группах;\n",
    "3) Повторим шаг 2, для оставшихся событий, также между контрольными группами;\n",
    "4) Повторим шаги 2,3 уже с экспериментальной группой: множественное сравнение всех трёх групп по всем событиям;\n",
    "5) Повторим шаги 2,3, но теперь объединим контрольные группы в одну."
   ]
  },
  {
   "cell_type": "code",
   "execution_count": 35,
   "id": "020ffdf1",
   "metadata": {},
   "outputs": [
    {
     "data": {
      "text/html": [
       "<div>\n",
       "<style scoped>\n",
       "    .dataframe tbody tr th:only-of-type {\n",
       "        vertical-align: middle;\n",
       "    }\n",
       "\n",
       "    .dataframe tbody tr th {\n",
       "        vertical-align: top;\n",
       "    }\n",
       "\n",
       "    .dataframe thead th {\n",
       "        text-align: right;\n",
       "    }\n",
       "</style>\n",
       "<table border=\"1\" class=\"dataframe\">\n",
       "  <thead>\n",
       "    <tr style=\"text-align: right;\">\n",
       "      <th></th>\n",
       "      <th>user_id</th>\n",
       "      <th>MainScreenAppear</th>\n",
       "      <th>MainScreenAppear_share</th>\n",
       "      <th>OffersScreenAppear</th>\n",
       "      <th>OffersScreenAppear_share</th>\n",
       "      <th>CartScreenAppear</th>\n",
       "      <th>CartScreenAppear_share</th>\n",
       "      <th>PaymentScreenSuccessful</th>\n",
       "      <th>PaymentScreenSuccessful_share</th>\n",
       "    </tr>\n",
       "    <tr>\n",
       "      <th>group</th>\n",
       "      <th></th>\n",
       "      <th></th>\n",
       "      <th></th>\n",
       "      <th></th>\n",
       "      <th></th>\n",
       "      <th></th>\n",
       "      <th></th>\n",
       "      <th></th>\n",
       "      <th></th>\n",
       "    </tr>\n",
       "  </thead>\n",
       "  <tbody>\n",
       "    <tr>\n",
       "      <th>246</th>\n",
       "      <td>2483</td>\n",
       "      <td>2450</td>\n",
       "      <td>0.987</td>\n",
       "      <td>1542</td>\n",
       "      <td>0.621</td>\n",
       "      <td>1266</td>\n",
       "      <td>0.510</td>\n",
       "      <td>1200</td>\n",
       "      <td>0.483</td>\n",
       "    </tr>\n",
       "    <tr>\n",
       "      <th>247</th>\n",
       "      <td>2512</td>\n",
       "      <td>2476</td>\n",
       "      <td>0.986</td>\n",
       "      <td>1520</td>\n",
       "      <td>0.605</td>\n",
       "      <td>1238</td>\n",
       "      <td>0.493</td>\n",
       "      <td>1158</td>\n",
       "      <td>0.461</td>\n",
       "    </tr>\n",
       "    <tr>\n",
       "      <th>248</th>\n",
       "      <td>2535</td>\n",
       "      <td>2493</td>\n",
       "      <td>0.983</td>\n",
       "      <td>1531</td>\n",
       "      <td>0.604</td>\n",
       "      <td>1230</td>\n",
       "      <td>0.485</td>\n",
       "      <td>1181</td>\n",
       "      <td>0.466</td>\n",
       "    </tr>\n",
       "  </tbody>\n",
       "</table>\n",
       "</div>"
      ],
      "text/plain": [
       "       user_id  MainScreenAppear  MainScreenAppear_share  OffersScreenAppear   \n",
       "group                                                                          \n",
       "246       2483              2450                   0.987                1542  \\\n",
       "247       2512              2476                   0.986                1520   \n",
       "248       2535              2493                   0.983                1531   \n",
       "\n",
       "       OffersScreenAppear_share  CartScreenAppear  CartScreenAppear_share   \n",
       "group                                                                       \n",
       "246                       0.621              1266                   0.510  \\\n",
       "247                       0.605              1238                   0.493   \n",
       "248                       0.604              1230                   0.485   \n",
       "\n",
       "       PaymentScreenSuccessful  PaymentScreenSuccessful_share  \n",
       "group                                                          \n",
       "246                       1200                          0.483  \n",
       "247                       1158                          0.461  \n",
       "248                       1181                          0.466  "
      ]
     },
     "execution_count": 35,
     "metadata": {},
     "output_type": "execute_result"
    }
   ],
   "source": [
    "df_group_info = df[['user_id', 'group']].drop_duplicates().groupby('group').count()\n",
    "for event in df['event_name'].unique() :\n",
    "    df_group_info[event] = df.query(\"event_name == @event\")[['user_id', 'group']].drop_duplicates().groupby('group').count()\n",
    "    # доля пользователей, совершивших это событие\n",
    "    df_group_info[event+'_share'] = round(df_group_info[event] / df_group_info['user_id'], 3)\n",
    "df_group_info"
   ]
  },
  {
   "cell_type": "code",
   "execution_count": 36,
   "id": "514a230e",
   "metadata": {},
   "outputs": [],
   "source": [
    "# Нам предстоить сделать несколько статистическийх тестов, поэтому обернём его в функцию\n",
    "\n",
    "def z_value_func(success, totals, alpha, event) :\n",
    "    '''Функция о проверке гипотезы о равенстве долей. На вход получаем массив со значениями успешных пользователей\n",
    "        и массив со значениями общего кол-ва пользователей и уровень альфа.\n",
    "        Функция выводит p-value и решение о принятии/отклонении нулевой гипотезы'''\n",
    "    #выведем вводные для эксперимента\n",
    "    print(f\"Нулевая гипотеза: конверсия в событие {event} у групп {success.reset_index().loc[0,'group']} и {success.reset_index().loc[1,'group']} равна\")\n",
    "    \n",
    "    success = success.to_numpy()\n",
    "    totals = totals.to_numpy()\n",
    "    # пропорция успехов в группе 1:\n",
    "    p1 = success[0]/totals[0]\n",
    "\n",
    "    # пропорция успехов в группе 2:\n",
    "    p2 = success[1]/totals[1]\n",
    "\n",
    "    # пропорция успехов общая:\n",
    "    p_combined = (success[0] + success[1]) / (totals[0] + totals[1])\n",
    "\n",
    "    # разница пропорций\n",
    "    difference = p1 - p2 \n",
    "    # считаем статистику в ст.отклонениях стандартного нормального распределения\n",
    "    z_value = difference / mth.sqrt(p_combined * (1 - p_combined) * (1/totals[0] + 1/totals[1]))\n",
    "\n",
    "    # задаем стандартное нормальное распределение (среднее 0, ст.отклонение 1)\n",
    "    distr = st.norm(0, 1)\n",
    "    p_value = (1 - distr.cdf(abs(z_value))) * 2\n",
    "\n",
    "    print(event)\n",
    "    print('p-значение: ', p_value)\n",
    "\n",
    "    if p_value < alpha:\n",
    "        print('Отвергаем нулевую гипотезу: между конверсиями есть значимая разница')\n",
    "    else:\n",
    "        print(\n",
    "            'Не получилось отвергнуть нулевую гипотезу, нет оснований считать конверсии разными'\n",
    "        )\n",
    "    print('')"
   ]
  },
  {
   "cell_type": "code",
   "execution_count": 37,
   "id": "e1e3c63c",
   "metadata": {},
   "outputs": [
    {
     "name": "stdout",
     "output_type": "stream",
     "text": [
      "Нулевая гипотеза: конверсия в событие MainScreenAppear у групп 246 и 247 равна\n",
      "MainScreenAppear\n",
      "p-значение:  0.7526703436483038\n",
      "Не получилось отвергнуть нулевую гипотезу, нет оснований считать конверсии разными\n",
      "\n"
     ]
    }
   ],
   "source": [
    "# Проверим статистическую значимость различий доли пользователей, совершивших самое популярное событие MainScreenAppear в контрольных группах\n",
    "z_value_func(df_group_info['MainScreenAppear'], df_group_info['user_id'], 0.05, 'MainScreenAppear')"
   ]
  },
  {
   "cell_type": "markdown",
   "id": "625f70cc",
   "metadata": {},
   "source": [
    "Статистически значимых различий нет, теперь проделаем аналогичный анализ для оставшихся событий."
   ]
  },
  {
   "cell_type": "code",
   "execution_count": 38,
   "id": "a4d70154",
   "metadata": {},
   "outputs": [
    {
     "name": "stdout",
     "output_type": "stream",
     "text": [
      "Нулевая гипотеза: конверсия в событие OffersScreenAppear у групп 246 и 247 равна\n",
      "OffersScreenAppear\n",
      "p-значение:  0.24786096925282264\n",
      "Не получилось отвергнуть нулевую гипотезу, нет оснований считать конверсии разными\n",
      "\n",
      "Нулевая гипотеза: конверсия в событие CartScreenAppear у групп 246 и 247 равна\n",
      "CartScreenAppear\n",
      "p-значение:  0.22867643757335676\n",
      "Не получилось отвергнуть нулевую гипотезу, нет оснований считать конверсии разными\n",
      "\n",
      "Нулевая гипотеза: конверсия в событие PaymentScreenSuccessful у групп 246 и 247 равна\n",
      "PaymentScreenSuccessful\n",
      "p-значение:  0.11446627829276612\n",
      "Не получилось отвергнуть нулевую гипотезу, нет оснований считать конверсии разными\n",
      "\n"
     ]
    }
   ],
   "source": [
    "for event in df.query(\"event_name != 'MainScreenAppear'\")['event_name'].unique() :\n",
    "    z_value_func(df_group_info[event], df_group_info['user_id'], 0.05, event)"
   ]
  },
  {
   "cell_type": "markdown",
   "id": "198640db",
   "metadata": {},
   "source": [
    "Отлично, статистически значимых различий нет для всех событий. Продолжим анализ уже с экспериментальной группой. Так как мы проводим множественное сравнение, применим метод Шидака. Используем именно этот метод, ведь полезно увидеть даже небольшие изменения в поведении, так как мы всего лишь поменяли шрифт."
   ]
  },
  {
   "cell_type": "code",
   "execution_count": 39,
   "id": "920e3240",
   "metadata": {},
   "outputs": [
    {
     "name": "stdout",
     "output_type": "stream",
     "text": [
      "Нулевая гипотеза: конверсия в событие MainScreenAppear у групп 246 и 248 равна\n",
      "MainScreenAppear\n",
      "p-значение:  0.3387114076159288\n",
      "Не получилось отвергнуть нулевую гипотезу, нет оснований считать конверсии разными\n",
      "\n",
      "Нулевая гипотеза: конверсия в событие MainScreenAppear у групп 247 и 248 равна\n",
      "MainScreenAppear\n",
      "p-значение:  0.5194964354051703\n",
      "Не получилось отвергнуть нулевую гипотезу, нет оснований считать конверсии разными\n",
      "\n",
      "Нулевая гипотеза: конверсия в событие OffersScreenAppear у групп 246 и 248 равна\n",
      "OffersScreenAppear\n",
      "p-значение:  0.21442476639710506\n",
      "Не получилось отвергнуть нулевую гипотезу, нет оснований считать конверсии разными\n",
      "\n",
      "Нулевая гипотеза: конверсия в событие OffersScreenAppear у групп 247 и 248 равна\n",
      "OffersScreenAppear\n",
      "p-значение:  0.9333751305879443\n",
      "Не получилось отвергнуть нулевую гипотезу, нет оснований считать конверсии разными\n",
      "\n",
      "Нулевая гипотеза: конверсия в событие CartScreenAppear у групп 246 и 248 равна\n",
      "CartScreenAppear\n",
      "p-значение:  0.08067367598823139\n",
      "Не получилось отвергнуть нулевую гипотезу, нет оснований считать конверсии разными\n",
      "\n",
      "Нулевая гипотеза: конверсия в событие CartScreenAppear у групп 247 и 248 равна\n",
      "CartScreenAppear\n",
      "p-значение:  0.5878284605111943\n",
      "Не получилось отвергнуть нулевую гипотезу, нет оснований считать конверсии разными\n",
      "\n",
      "Нулевая гипотеза: конверсия в событие PaymentScreenSuccessful у групп 246 и 248 равна\n",
      "PaymentScreenSuccessful\n",
      "p-значение:  0.21693033984516674\n",
      "Не получилось отвергнуть нулевую гипотезу, нет оснований считать конверсии разными\n",
      "\n",
      "Нулевая гипотеза: конверсия в событие PaymentScreenSuccessful у групп 247 и 248 равна\n",
      "PaymentScreenSuccessful\n",
      "p-значение:  0.7275718682261119\n",
      "Не получилось отвергнуть нулевую гипотезу, нет оснований считать конверсии разными\n",
      "\n"
     ]
    }
   ],
   "source": [
    "for event in df['event_name'].unique() :\n",
    "    for group_cnt in [247,246] :\n",
    "        df_group_info_filt = df_group_info.query(\"group != @group_cnt\")\n",
    "        z_value_func(df_group_info_filt[event], df_group_info_filt['user_id'], 1 - (1 - 0.05)**(1/2), event)"
   ]
  },
  {
   "cell_type": "markdown",
   "id": "91bd2609",
   "metadata": {},
   "source": [
    "Анализ не показал статистически значимых различий экспериментальной группы с контрольными.   \n",
    "Теперь попробуем объединить контрольные группы и повторить шаги."
   ]
  },
  {
   "cell_type": "code",
   "execution_count": 40,
   "id": "22592b8c",
   "metadata": {},
   "outputs": [
    {
     "data": {
      "text/plain": [
       "array(['\"контрольная\"', '\"экспериментальная\"'], dtype=object)"
      ]
     },
     "execution_count": 40,
     "metadata": {},
     "output_type": "execute_result"
    }
   ],
   "source": [
    "df_2 = df.copy()\n",
    "df_2['group'] = df_2['group'].replace([246,247], '\"контрольная\"')\n",
    "df_2['group'] = df_2['group'].replace(248, '\"экспериментальная\"')\n",
    "df_2['group'].unique()"
   ]
  },
  {
   "cell_type": "code",
   "execution_count": 41,
   "id": "dccfc699",
   "metadata": {},
   "outputs": [
    {
     "data": {
      "text/html": [
       "<div>\n",
       "<style scoped>\n",
       "    .dataframe tbody tr th:only-of-type {\n",
       "        vertical-align: middle;\n",
       "    }\n",
       "\n",
       "    .dataframe tbody tr th {\n",
       "        vertical-align: top;\n",
       "    }\n",
       "\n",
       "    .dataframe thead th {\n",
       "        text-align: right;\n",
       "    }\n",
       "</style>\n",
       "<table border=\"1\" class=\"dataframe\">\n",
       "  <thead>\n",
       "    <tr style=\"text-align: right;\">\n",
       "      <th></th>\n",
       "      <th>user_id</th>\n",
       "      <th>MainScreenAppear</th>\n",
       "      <th>MainScreenAppear_share</th>\n",
       "      <th>OffersScreenAppear</th>\n",
       "      <th>OffersScreenAppear_share</th>\n",
       "      <th>CartScreenAppear</th>\n",
       "      <th>CartScreenAppear_share</th>\n",
       "      <th>PaymentScreenSuccessful</th>\n",
       "      <th>PaymentScreenSuccessful_share</th>\n",
       "    </tr>\n",
       "    <tr>\n",
       "      <th>group</th>\n",
       "      <th></th>\n",
       "      <th></th>\n",
       "      <th></th>\n",
       "      <th></th>\n",
       "      <th></th>\n",
       "      <th></th>\n",
       "      <th></th>\n",
       "      <th></th>\n",
       "      <th></th>\n",
       "    </tr>\n",
       "  </thead>\n",
       "  <tbody>\n",
       "    <tr>\n",
       "      <th>\"контрольная\"</th>\n",
       "      <td>4995</td>\n",
       "      <td>4926</td>\n",
       "      <td>0.986</td>\n",
       "      <td>3062</td>\n",
       "      <td>0.613</td>\n",
       "      <td>2504</td>\n",
       "      <td>0.501</td>\n",
       "      <td>2358</td>\n",
       "      <td>0.472</td>\n",
       "    </tr>\n",
       "    <tr>\n",
       "      <th>\"экспериментальная\"</th>\n",
       "      <td>2535</td>\n",
       "      <td>2493</td>\n",
       "      <td>0.983</td>\n",
       "      <td>1531</td>\n",
       "      <td>0.604</td>\n",
       "      <td>1230</td>\n",
       "      <td>0.485</td>\n",
       "      <td>1181</td>\n",
       "      <td>0.466</td>\n",
       "    </tr>\n",
       "  </tbody>\n",
       "</table>\n",
       "</div>"
      ],
      "text/plain": [
       "                     user_id  MainScreenAppear  MainScreenAppear_share   \n",
       "group                                                                    \n",
       "\"контрольная\"           4995              4926                   0.986  \\\n",
       "\"экспериментальная\"     2535              2493                   0.983   \n",
       "\n",
       "                     OffersScreenAppear  OffersScreenAppear_share   \n",
       "group                                                               \n",
       "\"контрольная\"                      3062                     0.613  \\\n",
       "\"экспериментальная\"                1531                     0.604   \n",
       "\n",
       "                     CartScreenAppear  CartScreenAppear_share   \n",
       "group                                                           \n",
       "\"контрольная\"                    2504                   0.501  \\\n",
       "\"экспериментальная\"              1230                   0.485   \n",
       "\n",
       "                     PaymentScreenSuccessful  PaymentScreenSuccessful_share  \n",
       "group                                                                        \n",
       "\"контрольная\"                           2358                          0.472  \n",
       "\"экспериментальная\"                     1181                          0.466  "
      ]
     },
     "execution_count": 41,
     "metadata": {},
     "output_type": "execute_result"
    }
   ],
   "source": [
    "df_group_info_2 = df_2[['user_id', 'group']].drop_duplicates().groupby('group').count()\n",
    "for event in df_2['event_name'].unique() :\n",
    "    df_group_info_2[event] = df_2.query(\"event_name == @event\")[['user_id', 'group']].drop_duplicates().groupby('group').count()\n",
    "    # доля пользователей, совершивших это событие\n",
    "    df_group_info_2[event+'_share'] = round(df_group_info_2[event] / df_group_info_2['user_id'], 3)\n",
    "df_group_info_2"
   ]
  },
  {
   "cell_type": "code",
   "execution_count": 42,
   "id": "1c9b7d53",
   "metadata": {},
   "outputs": [
    {
     "name": "stdout",
     "output_type": "stream",
     "text": [
      "Нулевая гипотеза: конверсия в событие MainScreenAppear у групп \"контрольная\" и \"экспериментальная\" равна\n",
      "MainScreenAppear\n",
      "p-значение:  0.3486684291093256\n",
      "Не получилось отвергнуть нулевую гипотезу, нет оснований считать конверсии разными\n",
      "\n",
      "Нулевая гипотеза: конверсия в событие OffersScreenAppear у групп \"контрольная\" и \"экспериментальная\" равна\n",
      "OffersScreenAppear\n",
      "p-значение:  0.44582745409482394\n",
      "Не получилось отвергнуть нулевую гипотезу, нет оснований считать конверсии разными\n",
      "\n",
      "Нулевая гипотеза: конверсия в событие CartScreenAppear у групп \"контрольная\" и \"экспериментальная\" равна\n",
      "CartScreenAppear\n",
      "p-значение:  0.18683558686831558\n",
      "Не получилось отвергнуть нулевую гипотезу, нет оснований считать конверсии разными\n",
      "\n",
      "Нулевая гипотеза: конверсия в событие PaymentScreenSuccessful у групп \"контрольная\" и \"экспериментальная\" равна\n",
      "PaymentScreenSuccessful\n",
      "p-значение:  0.6107918742187335\n",
      "Не получилось отвергнуть нулевую гипотезу, нет оснований считать конверсии разными\n",
      "\n"
     ]
    }
   ],
   "source": [
    "for event in df['event_name'].unique() :\n",
    "        z_value_func(df_group_info_2[event], df_group_info_2['user_id'], 0.05, event)"
   ]
  },
  {
   "cell_type": "markdown",
   "id": "d55b6ca4",
   "metadata": {},
   "source": [
    "**Промежуточные выводы**: Я провел 12 статистических тестов с экспериментальной группой и 4 теста между контрольными группами. Для оценки статистической значимости взял уровень значимости 0.05. Уровень значимости показывает вероятность получения ложнопозитивного результата (ошибки первого рода) - найти статистические значимые различия там, где их на самом деле нет.\n",
    "\n",
    "Проверка каждого события между двумя контрольными группами и экспериментальной предполагает проведение трёх сравнений. При уровне значимости 0.05 вероятность получить ошибку первого рода при анализе каждого события увеличивается и уже становится 0.1426 (по формуле: 1-(1-а)^3). Для уменьшения вероятности ошибки первого рода используют разные методы корректировки уровня значимости, например, методы Бонферрони, Холма, Шидака.   \n",
    "Я использовал метод Шидака, так как он не так сильно уменьщает мощность теста, в отличии от метода Бонферрони.\n",
    "\n",
    "Принимаю решение остановить тест. Признать его успешным.\n",
    "Фиксируем результаты:\n",
    "* А/А/В тест проведён корректно;\n",
    "* Нет статистически значимого различия в поведении пользователей между группами ни по одному из событий."
   ]
  },
  {
   "cell_type": "markdown",
   "id": "18d2219c",
   "metadata": {},
   "source": [
    "## Финальный вывод"
   ]
  },
  {
   "cell_type": "markdown",
   "id": "5ba7f844",
   "metadata": {},
   "source": [
    "Мною была проведена аналитика поведения пользователей мобильного приложения по продаже продуктов питания. Данные содержали данные о событиях от перехода на главный экран до совершения покупки за период 01.08.2019 - 07.08.2019. За этот период произошло 240887 событий, сделанных 7534 пользователями. В среднем пользователь совершал 32 события.   \n",
    "По итогам анализа воронки событий есть следующие выводы:\n",
    "1) Конверсия в покупку с запуска приложения равна 47%;\n",
    "2) больше всего пользователей \"отваливается\" на этапе `MainScreenAppear` -> `OffersScreenAppear`, около 62%;\n",
    "3) 20% пользователей не перешли с события `OffersScreenAppear` на `CartScreenAppear`;\n",
    "4) 5% пользователей не перешли с события `CartScreenAppear` на `PaymentScreenSuccessful`.   \n",
    "   \n",
    "Был проведён А/А/В тест, экспериментальной группе был показан изменённый шрифт в приложении. Параметры тестирования:\n",
    "* даты: 1 августа 2019 - 7 августа 2019;\n",
    "* количество посетителей: 7534, две контрольные группы: `246` - 2483 пользователя и `247` - 2512 пользователя, одна экспериментальная (`248`) - 2535.   \n",
    "   \n",
    "Анализ результатов теста показал, что нет статистически значимого различия в поведении пользователей между группами ни по одному из событий."
   ]
  }
 ],
 "metadata": {
  "ExecuteTimeLog": [
   {
    "duration": 1046,
    "start_time": "2023-05-01T15:10:11.516Z"
   },
   {
    "duration": 269,
    "start_time": "2023-05-01T15:10:12.564Z"
   },
   {
    "duration": 24,
    "start_time": "2023-05-01T15:10:12.834Z"
   },
   {
    "duration": 2,
    "start_time": "2023-05-01T15:10:12.860Z"
   },
   {
    "duration": 167,
    "start_time": "2023-05-01T15:10:12.864Z"
   },
   {
    "duration": 319,
    "start_time": "2023-05-01T15:10:13.033Z"
   },
   {
    "duration": 38,
    "start_time": "2023-05-01T15:10:13.353Z"
   },
   {
    "duration": 29,
    "start_time": "2023-05-01T15:10:13.398Z"
   },
   {
    "duration": 4,
    "start_time": "2023-05-01T15:10:13.428Z"
   },
   {
    "duration": 13,
    "start_time": "2023-05-01T15:10:13.434Z"
   },
   {
    "duration": 161,
    "start_time": "2023-05-01T15:10:13.448Z"
   },
   {
    "duration": 7,
    "start_time": "2023-05-01T15:10:13.611Z"
   },
   {
    "duration": 9,
    "start_time": "2023-05-01T15:10:13.619Z"
   },
   {
    "duration": 779,
    "start_time": "2023-05-01T15:10:13.630Z"
   },
   {
    "duration": 34,
    "start_time": "2023-05-01T15:10:14.411Z"
   },
   {
    "duration": 13,
    "start_time": "2023-05-01T15:10:14.447Z"
   },
   {
    "duration": 61,
    "start_time": "2023-05-01T15:10:14.462Z"
   },
   {
    "duration": 20,
    "start_time": "2023-05-01T15:10:14.524Z"
   },
   {
    "duration": 24,
    "start_time": "2023-05-01T15:10:14.545Z"
   },
   {
    "duration": 396,
    "start_time": "2023-05-01T15:10:14.571Z"
   },
   {
    "duration": 67,
    "start_time": "2023-05-01T15:10:14.968Z"
   },
   {
    "duration": 11,
    "start_time": "2023-05-01T15:10:15.037Z"
   },
   {
    "duration": 43,
    "start_time": "2023-05-01T15:10:15.077Z"
   },
   {
    "duration": 40,
    "start_time": "2023-05-01T15:10:15.122Z"
   },
   {
    "duration": 58,
    "start_time": "2023-05-01T15:10:15.163Z"
   },
   {
    "duration": 8,
    "start_time": "2023-05-01T15:10:15.222Z"
   },
   {
    "duration": 23,
    "start_time": "2023-05-01T15:10:15.232Z"
   },
   {
    "duration": 43,
    "start_time": "2023-05-01T15:10:15.257Z"
   },
   {
    "duration": 17,
    "start_time": "2023-05-01T15:10:15.303Z"
   },
   {
    "duration": 9,
    "start_time": "2023-05-01T15:10:15.322Z"
   },
   {
    "duration": 112,
    "start_time": "2023-05-01T15:10:15.332Z"
   },
   {
    "duration": 5,
    "start_time": "2023-05-01T15:10:15.446Z"
   },
   {
    "duration": 12,
    "start_time": "2023-05-01T15:10:15.452Z"
   },
   {
    "duration": 50,
    "start_time": "2023-05-01T15:10:15.465Z"
   },
   {
    "duration": 72,
    "start_time": "2023-05-01T15:10:15.517Z"
   },
   {
    "duration": 49,
    "start_time": "2023-05-01T15:10:15.593Z"
   },
   {
    "duration": 183,
    "start_time": "2023-05-01T15:10:15.643Z"
   },
   {
    "duration": 33,
    "start_time": "2023-05-01T15:10:15.828Z"
   },
   {
    "duration": 13,
    "start_time": "2023-05-01T15:16:37.717Z"
   },
   {
    "duration": 822,
    "start_time": "2023-05-01T15:16:42.173Z"
   },
   {
    "duration": 4,
    "start_time": "2023-05-01T15:19:14.868Z"
   }
  ],
  "kernelspec": {
   "display_name": "Python 3 (ipykernel)",
   "language": "python",
   "name": "python3"
  },
  "language_info": {
   "codemirror_mode": {
    "name": "ipython",
    "version": 3
   },
   "file_extension": ".py",
   "mimetype": "text/x-python",
   "name": "python",
   "nbconvert_exporter": "python",
   "pygments_lexer": "ipython3",
   "version": "3.9.16"
  },
  "toc": {
   "base_numbering": 1,
   "nav_menu": {},
   "number_sections": false,
   "sideBar": true,
   "skip_h1_title": false,
   "title_cell": "Table of Contents",
   "title_sidebar": "Contents",
   "toc_cell": false,
   "toc_position": {
    "height": "calc(100% - 180px)",
    "left": "10px",
    "top": "150px",
    "width": "286.264px"
   },
   "toc_section_display": true,
   "toc_window_display": true
  }
 },
 "nbformat": 4,
 "nbformat_minor": 5
}
